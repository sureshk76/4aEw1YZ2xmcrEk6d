{
 "cells": [
  {
   "cell_type": "code",
   "execution_count": 1,
   "id": "24b8c8cb",
   "metadata": {},
   "outputs": [],
   "source": [
    "# importing the required modules\n",
    "import pandas as pd\n",
    "from sklearn.model_selection import train_test_split\n",
    "from sklearn.tree import DecisionTreeClassifier\n",
    "from sklearn.metrics import accuracy_score, classification_report"
   ]
  },
  {
   "cell_type": "code",
   "execution_count": 3,
   "id": "091df69d",
   "metadata": {},
   "outputs": [],
   "source": [
    "# reading the csv file and loading the data into the variable data\n",
    "df = pd.read_csv('C:/Users/keert/happinessSurvey2020.csv')\n",
    "\n",
    "# selecting only the data for target variable and independent variable that has better correlation with target variable\n",
    "data = df[['Y', 'X1', 'X5']]\n",
    "\n",
    "# storing all the independent variables/features in the variable X\n",
    "X = data.drop('Y', axis=1)\n",
    "\n",
    "# storing the target variable in the variable Y\n",
    "y = data['Y']"
   ]
  },
  {
   "cell_type": "code",
   "execution_count": 6,
   "id": "53687247",
   "metadata": {},
   "outputs": [
    {
     "name": "stdout",
     "output_type": "stream",
     "text": [
      "Model Accuracy:  0.8461538461538461\n"
     ]
    }
   ],
   "source": [
    "# splitting the data into 20% testing and 80% training\n",
    "#  random_state=217 provides good accuracy\n",
    "X_train, X_test, y_train, y_test = train_test_split(X, y, test_size = 0.2, random_state=217 )\n",
    "\n",
    "# fitting the data to the decision tree claissifier model\n",
    "dt_model = DecisionTreeClassifier()\n",
    "dt_model.fit(X_train, y_train)\n",
    "\n",
    "# predicting the target variable y with the test data\n",
    "y_pred = dt_model.predict(X_test)\n",
    "\n",
    "# accuracy of the model\n",
    "accuracy = accuracy_score(y_test, y_pred)\n",
    "print(\"Model Accuracy: \", accuracy)"
   ]
  },
  {
   "cell_type": "code",
   "execution_count": 7,
   "id": "f93d156d",
   "metadata": {},
   "outputs": [
    {
     "name": "stdout",
     "output_type": "stream",
     "text": [
      "              precision    recall  f1-score   support\n",
      "\n",
      "           0       0.90      0.75      0.82        12\n",
      "           1       0.81      0.93      0.87        14\n",
      "\n",
      "    accuracy                           0.85        26\n",
      "   macro avg       0.86      0.84      0.84        26\n",
      "weighted avg       0.85      0.85      0.84        26\n",
      "\n"
     ]
    }
   ],
   "source": [
    "print(classification_report(y_test, y_pred))"
   ]
  },
  {
   "cell_type": "code",
   "execution_count": null,
   "id": "205d6b61",
   "metadata": {},
   "outputs": [],
   "source": []
  }
 ],
 "metadata": {
  "kernelspec": {
   "display_name": "Python 3 (ipykernel)",
   "language": "python",
   "name": "python3"
  },
  "language_info": {
   "codemirror_mode": {
    "name": "ipython",
    "version": 3
   },
   "file_extension": ".py",
   "mimetype": "text/x-python",
   "name": "python",
   "nbconvert_exporter": "python",
   "pygments_lexer": "ipython3",
   "version": "3.9.13"
  }
 },
 "nbformat": 4,
 "nbformat_minor": 5
}
