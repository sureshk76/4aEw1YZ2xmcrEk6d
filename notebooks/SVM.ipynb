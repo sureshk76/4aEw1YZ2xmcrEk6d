{
 "cells": [
  {
   "cell_type": "code",
   "execution_count": 1,
   "id": "11382403",
   "metadata": {},
   "outputs": [
    {
     "name": "stdout",
     "output_type": "stream",
     "text": [
      "Model Accuracy:  0.8421052631578947\n",
      "\n",
      "Confusion Matrix: \n",
      " [[7 3]\n",
      " [0 9]]\n",
      "\n",
      "Classification Report: \n",
      "               precision    recall  f1-score   support\n",
      "\n",
      "           0       1.00      0.70      0.82        10\n",
      "           1       0.75      1.00      0.86         9\n",
      "\n",
      "    accuracy                           0.84        19\n",
      "   macro avg       0.88      0.85      0.84        19\n",
      "weighted avg       0.88      0.84      0.84        19\n",
      "\n"
     ]
    }
   ],
   "source": [
    "import pandas as pd\n",
    "from sklearn.model_selection import train_test_split\n",
    "from sklearn.svm import SVC\n",
    "from sklearn.metrics import accuracy_score, confusion_matrix, classification_report\n",
    "import joblib\n",
    "\n",
    "\n",
    "# split data\n",
    "def split_data(df, testSize, randomState):\n",
    "    X = df.drop('Y', axis=1).values\n",
    "    y = df['Y'].values\n",
    "    X_train, X_test, y_train, y_test = train_test_split(X, y, test_size=testSize, random_state=randomState)\n",
    "    data = {'train': {'X': X_train, 'y': y_train}, 'test': {'X': X_test, 'y': y_test}}\n",
    "    return data\n",
    "\n",
    "# train model\n",
    "def train_model(data, args):\n",
    "    reg_model = SVC(**args)\n",
    "    reg_model.fit(data['train']['X'], data['train']['y'])\n",
    "    return reg_model\n",
    "\n",
    "# get model metrics\n",
    "def get_model_metrics(reg_model, data):\n",
    "    preds = reg_model.predict(data[\"test\"][\"X\"])\n",
    "    accuracy = accuracy_score(data['test']['y'], preds)\n",
    "    cm = confusion_matrix(data['test']['y'], preds)\n",
    "    cr = classification_report(data['test']['y'], preds)\n",
    "    return accuracy, cm, cr\n",
    "\n",
    "def main():\n",
    "    #Load Data\n",
    "\n",
    "    df = pd.read_csv(r'../data/processed/happinessSurvey2020Processed.csv')\n",
    "\n",
    "    #execute split data function to split data into training and testing set\n",
    "    data = split_data(df, 0.15, 188)\n",
    "    \n",
    "    # example parameters\n",
    "    args = { 'kernel' : 'linear'}\n",
    "    \n",
    "    #train model on training set\n",
    "    reg = train_model(data, args)\n",
    "    \n",
    "    # validate model\n",
    "    accuracy, confusionMatrix, classificationReport = get_model_metrics(reg, data)\n",
    "    print('Model Accuracy: ', accuracy)\n",
    "    print('\\nConfusion Matrix: \\n', confusionMatrix)\n",
    "    print('\\nClassification Report: \\n', classificationReport)\n",
    "    \n",
    "    # save Model\n",
    "    model_name = \"SupportVectorMachineModel.pkl\"\n",
    "    joblib.dump(value=reg, filename=model_name)\n",
    "\n",
    "main()"
   ]
  }
 ],
 "metadata": {
  "kernelspec": {
   "display_name": "Python 3 (ipykernel)",
   "language": "python",
   "name": "python3"
  },
  "language_info": {
   "codemirror_mode": {
    "name": "ipython",
    "version": 3
   },
   "file_extension": ".py",
   "mimetype": "text/x-python",
   "name": "python",
   "nbconvert_exporter": "python",
   "pygments_lexer": "ipython3",
   "version": "3.9.16"
  }
 },
 "nbformat": 4,
 "nbformat_minor": 5
}
