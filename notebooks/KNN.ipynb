{
 "cells": [
  {
   "cell_type": "code",
   "execution_count": 3,
   "id": "f0dda6ad",
   "metadata": {},
   "outputs": [
    {
     "name": "stdout",
     "output_type": "stream",
     "text": [
      "Model Accuracy:  0.8421052631578947\n",
      "\n",
      "Confusion Matrix: \n",
      " [[ 5  2]\n",
      " [ 1 11]]\n",
      "\n",
      "Classification Report: \n",
      "               precision    recall  f1-score   support\n",
      "\n",
      "           0       0.83      0.71      0.77         7\n",
      "           1       0.85      0.92      0.88        12\n",
      "\n",
      "    accuracy                           0.84        19\n",
      "   macro avg       0.84      0.82      0.82        19\n",
      "weighted avg       0.84      0.84      0.84        19\n",
      "\n"
     ]
    }
   ],
   "source": [
    "import pandas as pd\n",
    "from sklearn.model_selection import train_test_split\n",
    "from sklearn.neighbors import KNeighborsClassifier\n",
    "from sklearn.metrics import accuracy_score, confusion_matrix, classification_report\n",
    "import numpy as np\n",
    "import joblib\n",
    "\n",
    "# split data\n",
    "def split_data(df, testSize, randomState):\n",
    "    X = df.drop('Y', axis=1).values\n",
    "    y = df['Y'].values\n",
    "    X_train, X_test, y_train, y_test = train_test_split(X, y, test_size=testSize, random_state=randomState)\n",
    "    data = {'train': {'X': X_train, 'y': y_train}, 'test': {'X': X_test, 'y': y_test}}\n",
    "    return data\n",
    "\n",
    "# train model\n",
    "def train_model(data, args):\n",
    "    reg_model = KNeighborsClassifier(**args)\n",
    "    reg_model.fit(data['train']['X'], data['train']['y'])\n",
    "    return reg_model\n",
    "\n",
    "# get model metrics\n",
    "def get_model_metrics(reg_model, data):\n",
    "    preds = reg_model.predict(data[\"test\"][\"X\"])\n",
    "    accuracy = accuracy_score(data['test']['y'], preds)\n",
    "    cm = confusion_matrix(data['test']['y'], preds)\n",
    "    cr = classification_report(data['test']['y'], preds)\n",
    "    return accuracy, cm, cr\n",
    "\n",
    "def main():\n",
    "    #Load Data\n",
    "\n",
    "    df = pd.read_csv(r'../data/processed/happinessSurvey2020Processed.csv')\n",
    "\n",
    "    #execute split data function to split data into training and testing set\n",
    "    data = split_data(df, 0.15, 153)\n",
    "    \n",
    "    # example parameters\n",
    "    args = { \"n_neighbors\" : 5, \"metric\" : 'minkowski', \"p\" : 2 }\n",
    "    \n",
    "    #train model on training set\n",
    "    reg = train_model(data, args)\n",
    "    \n",
    "    # validate model\n",
    "    accuracy, confusionMatrix, classificationReport = get_model_metrics(reg, data)\n",
    "    print('Model Accuracy: ', accuracy)\n",
    "    print('\\nConfusion Matrix: \\n', confusionMatrix)\n",
    "    print('\\nClassification Report: \\n', classificationReport)\n",
    "    \n",
    "    # save Model\n",
    "    model_name = \"KNearestNeighbourModel.pkl\"\n",
    "    joblib.dump(value=reg, filename=model_name)\n",
    "\n",
    "main()"
   ]
  }
 ],
 "metadata": {
  "kernelspec": {
   "display_name": "Python 3 (ipykernel)",
   "language": "python",
   "name": "python3"
  },
  "language_info": {
   "codemirror_mode": {
    "name": "ipython",
    "version": 3
   },
   "file_extension": ".py",
   "mimetype": "text/x-python",
   "name": "python",
   "nbconvert_exporter": "python",
   "pygments_lexer": "ipython3",
   "version": "3.9.16"
  }
 },
 "nbformat": 4,
 "nbformat_minor": 5
}
