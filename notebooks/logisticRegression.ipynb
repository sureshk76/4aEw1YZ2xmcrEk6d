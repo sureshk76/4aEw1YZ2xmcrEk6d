{
 "cells": [
  {
   "cell_type": "code",
   "execution_count": 27,
   "id": "c6be5e7c",
   "metadata": {},
   "outputs": [
    {
     "name": "stdout",
     "output_type": "stream",
     "text": [
      "Model Accuracy:  0.8076923076923077\n",
      "\n",
      "Confusion Matrix: \n",
      " [[ 5  5]\n",
      " [ 0 16]]\n",
      "\n",
      "Classification Report: \n",
      "               precision    recall  f1-score   support\n",
      "\n",
      "           0       1.00      0.50      0.67        10\n",
      "           1       0.76      1.00      0.86        16\n",
      "\n",
      "    accuracy                           0.81        26\n",
      "   macro avg       0.88      0.75      0.77        26\n",
      "weighted avg       0.85      0.81      0.79        26\n",
      "\n"
     ]
    }
   ],
   "source": [
    "# importing all the modules needed for our program\n",
    "import pandas as pd\n",
    "from sklearn.model_selection import train_test_split\n",
    "from sklearn.linear_model import LogisticRegression\n",
    "from sklearn.metrics import accuracy_score, classification_report, confusion_matrix\n",
    "import joblib\n",
    "\n",
    "# split data\n",
    "def split_data(df, testSize, randomState):\n",
    "    X = df.drop('Y', axis=1).values\n",
    "    y = df['Y'].values\n",
    "    X_train, X_test, y_train, y_test = train_test_split(X, y, test_size=testSize, random_state=randomState)\n",
    "    data = {'train': {'X': X_train, 'y': y_train}, 'test': {'X': X_test, 'y': y_test}}\n",
    "    return data\n",
    "\n",
    "# train model\n",
    "def train_model(data, args):\n",
    "    reg_model = LogisticRegression(**args)\n",
    "    reg_model.fit(data['train']['X'], data['train']['y'])\n",
    "    return reg_model\n",
    "\n",
    "# get model metrics\n",
    "def get_model_metrics(reg_model, data):\n",
    "    preds = reg_model.predict(data[\"test\"][\"X\"])\n",
    "    accuracy = accuracy_score(data['test']['y'], preds)\n",
    "    cm = confusion_matrix(data['test']['y'], preds)\n",
    "    cr = classification_report(data['test']['y'], preds)\n",
    "    return accuracy, cm, cr\n",
    "\n",
    "def main():\n",
    "    #Load Data\n",
    "\n",
    "    df = pd.read_csv(r'../data/processed/happinessSurvey2020Processed.csv')\n",
    "\n",
    "    #execute split data function to split data into training and testing set\n",
    "    data = split_data(df, 0.2, 240)\n",
    "    \n",
    "    # example parameters\n",
    "    args = { }\n",
    "    \n",
    "    #train model on training set\n",
    "    reg = train_model(data, args)\n",
    "    \n",
    "    # validate model\n",
    "    accuracy, confusionMatrix, classificationReport = get_model_metrics(reg, data)\n",
    "    print('Model Accuracy: ', accuracy)\n",
    "    print('\\nConfusion Matrix: \\n', confusionMatrix)\n",
    "    print('\\nClassification Report: \\n', classificationReport)\n",
    "    \n",
    "    # save Model\n",
    "    model_name = \"logisticRegressionModel.pkl\"\n",
    "    joblib.dump(value=reg, filename=model_name)\n",
    "\n",
    "main()"
   ]
  }
 ],
 "metadata": {
  "kernelspec": {
   "display_name": "Python 3 (ipykernel)",
   "language": "python",
   "name": "python3"
  },
  "language_info": {
   "codemirror_mode": {
    "name": "ipython",
    "version": 3
   },
   "file_extension": ".py",
   "mimetype": "text/x-python",
   "name": "python",
   "nbconvert_exporter": "python",
   "pygments_lexer": "ipython3",
   "version": "3.9.16"
  }
 },
 "nbformat": 4,
 "nbformat_minor": 5
}
