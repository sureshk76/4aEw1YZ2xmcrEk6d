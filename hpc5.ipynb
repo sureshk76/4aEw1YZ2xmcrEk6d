{
 "cells": [
  {
   "cell_type": "code",
   "execution_count": 41,
   "id": "1a347100",
   "metadata": {},
   "outputs": [],
   "source": [
    "# importing all the modules needed for our program\n",
    "import pandas as pd\n",
    "from sklearn.model_selection import train_test_split\n",
    "from sklearn.linear_model import LogisticRegression\n",
    "from sklearn.metrics import accuracy_score"
   ]
  },
  {
   "cell_type": "code",
   "execution_count": 42,
   "id": "7fa7e064",
   "metadata": {},
   "outputs": [],
   "source": [
    "# reading the csv file and loading the data into the variable data\n",
    "data = pd.read_csv('C:/Users/keert/happinessSurvey2020.csv')\n",
    "\n",
    "# storing all the independent variables/features in the variable X\n",
    "X = data.drop('Y', axis=1)\n",
    "\n",
    "# storing the target variable in the variable Y\n",
    "y = data['Y']"
   ]
  },
  {
   "cell_type": "code",
   "execution_count": 44,
   "id": "e3ad6cd0",
   "metadata": {},
   "outputs": [
    {
     "name": "stdout",
     "output_type": "stream",
     "text": [
      "Model accuracy:  0.8076923076923077\n"
     ]
    }
   ],
   "source": [
    "# Splitting the data into test and training set with 20% data in the test set and 80% in the train set\n",
    "# random seed 240 seems to be working well for this model\n",
    "X_train, X_test, y_train, y_test = train_test_split(X, y, test_size=0.2, random_state=240)\n",
    "\n",
    "# fitting the data to logistic model\n",
    "logistic_model = LogisticRegression()\n",
    "logistic_model.fit(X_train, y_train)\n",
    "\n",
    "# making predictions on the test set\n",
    "y_pred = logistic_model.predict(X_test)\n",
    "\n",
    "# accuracy of the model\n",
    "accuracy = accuracy_score(y_test, y_pred)\n",
    "print(\"Model accuracy: \", accuracy)"
   ]
  },
  {
   "cell_type": "code",
   "execution_count": null,
   "id": "512a558a",
   "metadata": {},
   "outputs": [],
   "source": []
  }
 ],
 "metadata": {
  "kernelspec": {
   "display_name": "Python 3 (ipykernel)",
   "language": "python",
   "name": "python3"
  },
  "language_info": {
   "codemirror_mode": {
    "name": "ipython",
    "version": 3
   },
   "file_extension": ".py",
   "mimetype": "text/x-python",
   "name": "python",
   "nbconvert_exporter": "python",
   "pygments_lexer": "ipython3",
   "version": "3.9.13"
  }
 },
 "nbformat": 4,
 "nbformat_minor": 5
}
